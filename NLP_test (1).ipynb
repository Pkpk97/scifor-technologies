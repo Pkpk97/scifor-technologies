{
  "nbformat": 4,
  "nbformat_minor": 0,
  "metadata": {
    "colab": {
      "provenance": [],
      "authorship_tag": "ABX9TyOUCjZ2F3a7U64tMDAj3on6",
      "include_colab_link": true
    },
    "kernelspec": {
      "name": "python3",
      "display_name": "Python 3"
    },
    "language_info": {
      "name": "python"
    }
  },
  "cells": [
    {
      "cell_type": "markdown",
      "metadata": {
        "id": "view-in-github",
        "colab_type": "text"
      },
      "source": [
        "<a href=\"https://colab.research.google.com/github/Pkpk97/python-/blob/main/NLP_test.ipynb\" target=\"_parent\"><img src=\"https://colab.research.google.com/assets/colab-badge.svg\" alt=\"Open In Colab\"/></a>"
      ]
    },
    {
      "cell_type": "code",
      "execution_count": null,
      "metadata": {
        "id": "PCOeGIBunMd7"
      },
      "outputs": [],
      "source": []
    },
    {
      "cell_type": "markdown",
      "source": [
        "Q1:Text processing is the automated process of analyzing and sorting unstructured text data to gain valuable insights. Using NLP and machine learning, subfields of artificial intelligence, text processing tools are able to automatically understand human language and extract value from text data.\n",
        "\n",
        " code to perform text processing\n",
        "import nltk\n",
        "from nltk.tokenize import word_tokenize\n",
        "tokens = word_tokenize(\"The quick brown fox jumps over the lazy dog\")\n",
        "nltk.download('stopwords')\n",
        "\n",
        "\n",
        "Q2: SPACY: spacy is an object-oriented library where we need to download packages related to English text.It Provides the most efficient NLP algorithm for a given task.\n",
        "\n",
        "NLP toolkit:NLTK is mainly a string processing library.NLTK provides access to many algorithms, and if you care about specific algorithms and customizations, then you can go with NLTK.\n",
        "*code where nlp used\n",
        "import pathlib\n",
        "file_name = \"introduction.txt\"\n",
        "introduction_doc = nlp(pathlib.Path(file_name).read_text(encoding=\"utf-8\"))\n",
        "print (token.text for token in introduction_doc)\n",
        "['This', 'tutorial', 'is', 'about', 'Natural', 'Language',\n",
        "'Processing', 'in', 'spaCy', '.', '\\n']\n",
        "\n",
        "Q3:  Neural networks: Neural networks, are a subset of machine learning and the heart of deep learning algorithms. Their name and structure are inspired by the human brain.\n",
        "\n",
        " ANNs are comprised of a node layers, containing an input layer, one or more hidden layers, and an output layer. Each node, or artificial neuron, connects to another and has an associated weight and threshold. If the output of any individual node is above the specified threshold value, that node is activated, sending data to the next layer of the network. Otherwise, no data is passed along to the next layer of the network.Neural networks rely on training data to learn and improve their accuracy over time.\n",
        "\n",
        " Deep Learning: Uses artificial neural network architecture to learn the hidden patterns and relationships in the dataset.\n",
        " Requires the larger volume of dataset compared to machine learning\n",
        " Better for complex task like image processing,Takes more time to train the modelRelevant features are automatically extracted from images. It is an end-to-end learning process. it works like the black box interpretations of the result are not easy.\tIt requires a high GPU.\n",
        "\n",
        " Q4: A hyperparameter is a parameter of the model whose value influences the learning process and whose value cannot be estimated from the training data. Hyperparameters are configured externally before starting the model learning/training process. Hyperparameter tuning is the process of finding the optimal hyperparameters for any given machine learning algorithm.\n",
        "\n",
        " Q5: Ensemble learning helps improve machine learning results by combining several models. This approach allows the production of better predictive performance compared to a single model. Basic idea is to learn a set of classifiers (experts) and to allow them to vote.\n",
        " The three main classes of ensemble learning methods are bagging, stacking, and boosting, and it is important to both have a detailed understanding of each method and to consider them on your predictive modeling project\n",
        "\n",
        " Q6: Model Selection and Evaluation is a hugely important procedure in the machine learning workflow. This is the section of our workflow in which we will analyse our model. We look at more insightful statistics of its performance and decide what actions to take in order to improve this model.\n",
        "\n",
        " Q7: Feature engineering enables you to build more complex models than you could with only raw data. It also allows you to build interpretable models from any amount of data.\n",
        " Feature selection will help you limit these features to a manageable number."
      ],
      "metadata": {
        "id": "g_KFnMOXpgkx"
      }
    }
  ]
}